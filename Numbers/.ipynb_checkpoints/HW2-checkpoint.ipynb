{
 "cells": [
  {
   "cell_type": "markdown",
   "id": "backed-eagle",
   "metadata": {},
   "source": [
    "# HW2 Numbers have a Function\n",
    "Submit your copy of this notebook with values filled in on Canvas. The following function is here for helping"
   ]
  },
  {
   "cell_type": "code",
   "execution_count": 5,
   "id": "portable-basic",
   "metadata": {},
   "outputs": [],
   "source": [
    "'''Placing all import statements and supplementary functions here for ease of use'''\n",
    "import math\n",
    "import random\n",
    "%matplotlib inline\n",
    "import numpy as np\n",
    "import matplotlib.pyplot as plt\n",
    "\n",
    "def plotF(func):\n",
    "  '''\n",
    "  This function applies a function to a set of values and plots the output\n",
    "    Input(s):\n",
    "      func : The function to which inputs are applied within the function. (Object)\n",
    "    Returns:\n",
    "      None\n",
    "  '''\n",
    "  X = np.linspace(-20,20,10000, endpoint=True)\n",
    "  vfunc = np.vectorize(func)\n",
    "  R = vfunc(X)\n",
    "  plt.plot(X, R)\n",
    "  plt.show()"
   ]
  },
  {
   "cell_type": "markdown",
   "id": "industrial-mexico",
   "metadata": {},
   "source": [
    "## Variables\n",
    "1. Which of the following are valid variable names?_______________\n",
    "<ol type=\"a\">\n",
    "  <li>X</li>\n",
    "  <li>X1</li>\n",
    "  <li>1X</li>\n",
    "  <li>X_1</li>\n",
    "  <li>IsThisAVariable</li>\n",
    "  <li>Is This A Variable</li>\n",
    "  <li>is_this_a_variable</li>\n",
    "</ol>\n"
   ]
  },
  {
   "cell_type": "raw",
   "id": "mineral-oasis",
   "metadata": {},
   "source": [
    "Answer 1 Here: A B D E G"
   ]
  },
  {
   "cell_type": "markdown",
   "id": "satisfactory-crime",
   "metadata": {},
   "source": [
    "## Numbers"
   ]
  },
  {
   "cell_type": "markdown",
   "id": "alert-shield",
   "metadata": {},
   "source": [
    "### Classify number by type\n",
    "\n",
    "2) For each of the following number types, write the python type, and an example with ||1|| in the table bellow."
   ]
  },
  {
   "cell_type": "markdown",
   "id": "featured-senate",
   "metadata": {},
   "source": [
    "| type        | $\\mathbb{B}$ | $\\mathbb{Z}$ | $\\mathbb{R}$ | $\\mathbb{C}$ |\n",
    "|-------------|--------------|--------------|--------------|--------------|\n",
    "| Python type |  Booleans    |  Integers    |   Reals      |   Complex    |\n",
    "| Example     |True or Fause |    1,2,3...  |  1.15        |   1+2i       |"
   ]
  },
  {
   "cell_type": "markdown",
   "id": "developing-chrome",
   "metadata": {},
   "source": [
    "### Conversion between types\n",
    "\n",
    "3) Write the function that performs the type conversion in the table bellow"
   ]
  },
  {
   "cell_type": "markdown",
   "id": "acceptable-incentive",
   "metadata": {},
   "source": [
    "| Mapping                           | Function  |\n",
    "|-----------------------------------|-----------|\n",
    "| Int $\\rightarrow$ Float           | float(x)  |\n",
    "| Float $\\rightarrow$ Int           | int(x)    |\n",
    "| {Int,Float} $\\rightarrow$ complex |complex(x) |\n",
    "| {Int,Float} $\\rightarrow$ Boolean |bool()     |"
   ]
  },
  {
   "cell_type": "markdown",
   "id": "bottom-coffee",
   "metadata": {},
   "source": [
    "### Operators\n",
    "4) What type of operators compare two Booleans?"
   ]
  },
  {
   "cell_type": "markdown",
   "id": "sealed-ireland",
   "metadata": {},
   "source": [
    "Answer 4 here Boolean Operators (and, or ,not, ^)"
   ]
  },
  {
   "cell_type": "markdown",
   "id": "stupid-bottom",
   "metadata": {},
   "source": [
    "5. What type of operators use two numbers to make a Boolean?"
   ]
  },
  {
   "cell_type": "markdown",
   "id": "informal-terror",
   "metadata": {},
   "source": [
    "Answer 5 here Relational Operators (==, !=, <, >, <=, >=)"
   ]
  },
  {
   "cell_type": "markdown",
   "id": "level-eugene",
   "metadata": {},
   "source": [
    "6. For the symbols bellow fill in the operation performed (English name) and what the resulting type or types can be for each of the cases of inputs to the operator. (A∘B→C, what is the type of C given types for A and B) "
   ]
  },
  {
   "cell_type": "markdown",
   "id": "false-lottery",
   "metadata": {},
   "source": [
    "| Symbol | Task Performed | int,int | int,real | real,real | complex, real |\n",
    "|--------|----------------|---------|----------|-----------|---------------|\n",
    "| +      |   addition     |    int  |  float   |   float   |    complex    |\n",
    "| -      |   subtraction  |    int  |   float  |   float   |    complex    |\n",
    "| /      |   division     |  float  |   float  |   float   |    complex    |\n",
    "| %      |   modulo       |    int  |   float  |   float   |     error     |\n",
    "| *      | multiplication |    int  |   float  |   float   |    complex    |\n",
    "| //     |   division     |    int  |   float  |   float   |     error     |\n",
    "| **     |   power        |    int  |   float  |   float   |    complex    |"
   ]
  },
  {
   "cell_type": "markdown",
   "id": "greatest-wagon",
   "metadata": {},
   "source": [
    "## Functions \n",
    "For the following section, for each function, write a document string and in it you must identify the domain and co-domain of the function. \n"
   ]
  },
  {
   "cell_type": "markdown",
   "id": "formal-billion",
   "metadata": {},
   "source": [
    "### Simple Functions\n",
    "7. Write a function that takes in a side for a hexagon and returns the area"
   ]
  },
  {
   "cell_type": "code",
   "execution_count": 8,
   "id": "immune-council",
   "metadata": {},
   "outputs": [
    {
     "data": {
      "text/plain": [
       "10.392304845413264"
      ]
     },
     "execution_count": 8,
     "metadata": {},
     "output_type": "execute_result"
    }
   ],
   "source": [
    "def hexagon(side):\n",
    "    area = 3 * math.sqrt(3) / 2 * side**2\n",
    "    return area\n",
    "\n",
    "hexagon(2)"
   ]
  },
  {
   "cell_type": "markdown",
   "id": "dressed-solution",
   "metadata": {},
   "source": [
    "8. Write a function that takes in a side for a pentagon and returns the area"
   ]
  },
  {
   "cell_type": "code",
   "execution_count": 13,
   "id": "innovative-nation",
   "metadata": {},
   "outputs": [
    {
     "data": {
      "text/plain": [
       "6.881909602355868"
      ]
     },
     "execution_count": 13,
     "metadata": {},
     "output_type": "execute_result"
    }
   ],
   "source": [
    "def pentagon(side):\n",
    "    area = 0.25 * math.sqrt(5 *(5 + 2 * math.sqrt(5))) * side**2\n",
    "    return area\n",
    "\n",
    "pentagon(2)"
   ]
  },
  {
   "cell_type": "markdown",
   "id": "elect-roller",
   "metadata": {},
   "source": [
    "9. Write a function that convers height in ft and inches to centimeters"
   ]
  },
  {
   "cell_type": "code",
   "execution_count": 12,
   "id": "impressed-fancy",
   "metadata": {},
   "outputs": [
    {
     "data": {
      "text/plain": [
       "190.12"
      ]
     },
     "execution_count": 12,
     "metadata": {},
     "output_type": "execute_result"
    }
   ],
   "source": [
    "def imp_to_matr(ft,inch):\n",
    "    cent = ft * 30.84 + inch * 2.54\n",
    "    return cent\n",
    "\n",
    "imp_to_matr(6,2)"
   ]
  },
  {
   "cell_type": "markdown",
   "id": "physical-memory",
   "metadata": {},
   "source": [
    "10. Write a function that takes in the side and length and returns the volume of a hexagonal prism. Use the hexagon area function from above."
   ]
  },
  {
   "cell_type": "code",
   "execution_count": 15,
   "id": "modern-organ",
   "metadata": {},
   "outputs": [
    {
     "data": {
      "text/plain": [
       "20.784609690826528"
      ]
     },
     "execution_count": 15,
     "metadata": {},
     "output_type": "execute_result"
    }
   ],
   "source": [
    "def hexagon_v(side, height):\n",
    "    volumn = math.sqrt(3) * 3 / 2 * side**2 * height\n",
    "    return volumn\n",
    "    \n",
    "hexagon_v(2,2)"
   ]
  },
  {
   "cell_type": "markdown",
   "id": "third-praise",
   "metadata": {},
   "source": [
    "11. Write a function that takes in the temperature and either converts Fahrenheit to Celsius or Celsius to Fahrenheit depending on a second Boolean input. \n"
   ]
  },
  {
   "cell_type": "code",
   "execution_count": 53,
   "id": "knowing-source",
   "metadata": {},
   "outputs": [
    {
     "name": "stdout",
     "output_type": "stream",
     "text": [
      "f or cf\n",
      "Convert F to C\n"
     ]
    },
    {
     "data": {
      "text/plain": [
       "37.77777777777778"
      ]
     },
     "execution_count": 53,
     "metadata": {},
     "output_type": "execute_result"
    }
   ],
   "source": [
    "def trmp_conv(temp):\n",
    "    f_c = input(\"f or c\")\n",
    "    if f_c == \"f\":\n",
    "        print('Convert F to C')\n",
    "        cel = 5 / 9 * (temp - 32)\n",
    "        return cel\n",
    "    elif f_c == \"c\":\n",
    "        print('Convert C to F')\n",
    "        fah = temp * 9 / 5 + 32\n",
    "        return fah\n",
    "    else:\n",
    "        print('error')\n",
    "        \n",
    "trmp_conv(100)"
   ]
  },
  {
   "cell_type": "markdown",
   "id": "emerging-mississippi",
   "metadata": {},
   "source": [
    "12. Make the function above and default it to convert from F to C"
   ]
  },
  {
   "cell_type": "code",
   "execution_count": 55,
   "id": "approximate-exception",
   "metadata": {},
   "outputs": [
    {
     "name": "stdout",
     "output_type": "stream",
     "text": [
      "Convert F to C\n"
     ]
    },
    {
     "data": {
      "text/plain": [
       "37.77777777777778"
      ]
     },
     "execution_count": 55,
     "metadata": {},
     "output_type": "execute_result"
    }
   ],
   "source": [
    "def trmp_conv(temp):\n",
    "        print('Convert F to C')\n",
    "        cel = 5 / 9 * (temp - 32)\n",
    "        return cel\n",
    "        \n",
    "trmp_conv(100)"
   ]
  },
  {
   "attachments": {
    "673778a1-36d3-4390-8ab8-817c4e31540b.png": {
     "image/png": "[encoded data removed]"
    }
   },
   "cell_type": "markdown",
   "id": "freelance-flashing",
   "metadata": {},
   "source": [
    "### Piecewise and Periodic functions\n",
    "13. Make a function that returns the value of the following\n",
    "\n",
    "\n",
    "![image.png](attachment:673778a1-36d3-4390-8ab8-817c4e31540b.png)"
   ]
  },
  {
   "cell_type": "code",
   "execution_count": 61,
   "id": "lyric-convention",
   "metadata": {},
   "outputs": [
    {
     "data": {
      "text/plain": [
       "-7"
      ]
     },
     "execution_count": 61,
     "metadata": {},
     "output_type": "execute_result"
    }
   ],
   "source": [
    "def value_return(x):\n",
    "    if -9 < x <= -5:\n",
    "        return -9\n",
    "    elif -5 < x <= -1:\n",
    "        return 6\n",
    "    elif -1 < x <= 9:\n",
    "        return -7\n",
    "    else:\n",
    "        return 0\n",
    "    \n",
    "value_return(2)"
   ]
  },
  {
   "cell_type": "markdown",
   "id": "unsigned-filing",
   "metadata": {},
   "source": [
    "14. Write a function that calculates the value of a triangle wave with a period of 10 and goes between -1 and 1"
   ]
  },
  {
   "cell_type": "code",
   "execution_count": 137,
   "id": "surprising-orbit",
   "metadata": {},
   "outputs": [
    {
     "name": "stdout",
     "output_type": "stream",
     "text": [
      "This is triangle wave value: -0.6 , when t = 1\n",
      "This is triangle wave value: 0.9600000000000002 , when t = 5.1\n",
      "This is triangle wave value: 0.2 , when t = 17\n",
      "This is triangle wave value: 0.9599999999999991 , when t = 24.9\n"
     ]
    },
    {
     "data": {
      "image/png": "[encoded data removed]",
      "text/plain": [
       "<Figure size 432x288 with 1 Axes>"
      ]
     },
     "metadata": {
      "needs_background": "light"
     },
     "output_type": "display_data"
    }
   ],
   "source": [
    "from scipy import signal\n",
    "t = np.linspace(0, 40, 500)\n",
    "plt.plot(t, signal.sawtooth(2 * np.pi * 0.1 * t, 0.5))\n",
    "\n",
    "def triangle_value(t):\n",
    "    triangle = signal.sawtooth(2 * np.pi * 0.1 * t, 0.5)\n",
    "    print('This is triangle wave value:',triangle, ', when t =', t)\n",
    "\n",
    "triangle_value(1)\n",
    "triangle_value(5.1)\n",
    "triangle_value(17)\n",
    "triangle_value(24.9)"
   ]
  },
  {
   "cell_type": "markdown",
   "id": "about-impossible",
   "metadata": {},
   "source": [
    "15. Write a function that calculates the value of a square wave with a 50% duty cycle, period of 10 and range of 0 to 1."
   ]
  },
  {
   "cell_type": "code",
   "execution_count": 136,
   "id": "fifteen-perfume",
   "metadata": {},
   "outputs": [
    {
     "name": "stdout",
     "output_type": "stream",
     "text": [
      "This is square wave value: 1.0 , when t = 2\n",
      "This is square wave value: 0.0 , when t = 9\n",
      "This is square wave value: 1.0 , when t = 13\n",
      "This is square wave value: 0.0 , when t = 28\n"
     ]
    },
    {
     "data": {
      "image/png": "[encoded data removed]",
      "text/plain": [
       "<Figure size 432x288 with 1 Axes>"
      ]
     },
     "metadata": {
      "needs_background": "light"
     },
     "output_type": "display_data"
    }
   ],
   "source": [
    "from scipy import signal\n",
    "t = np.linspace(0, 40, 500)\n",
    "plt.plot(t, 0.5+0.5*signal.square(2 * np.pi * 0.1 * t))\n",
    "\n",
    "def square_value(t):\n",
    "    square = 0.5 + 0.5 * signal.square(2 * np.pi * 0.1 * t)\n",
    "    print('This is square wave value:',square, ', when t =', t)\n",
    "    \n",
    "square_value(2)\n",
    "square_value(9)\n",
    "square_value(13)\n",
    "square_value(28)"
   ]
  },
  {
   "cell_type": "code",
   "execution_count": null,
   "id": "eleven-secretary",
   "metadata": {},
   "outputs": [],
   "source": []
  }
 ],
 "metadata": {
  "kernelspec": {
   "display_name": "Python 3",
   "language": "python",
   "name": "python3"
  },
  "language_info": {
   "codemirror_mode": {
    "name": "ipython",
    "version": 3
   },
   "file_extension": ".py",
   "mimetype": "text/x-python",
   "name": "python",
   "nbconvert_exporter": "python",
   "pygments_lexer": "ipython3",
   "version": "3.8.8"
  }
 },
 "nbformat": 4,
 "nbformat_minor": 5
}
