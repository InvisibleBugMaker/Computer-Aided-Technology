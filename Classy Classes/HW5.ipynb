{
 "cells": [
  {
   "cell_type": "markdown",
   "id": "systematic-season",
   "metadata": {},
   "source": [
    "# HW5 Classy Classes"
   ]
  },
  {
   "cell_type": "markdown",
   "id": "suspected-region",
   "metadata": {},
   "source": [
    "## Compare functions with dictionaries to a class  "
   ]
  },
  {
   "cell_type": "markdown",
   "id": "intensive-values",
   "metadata": {},
   "source": [
    "1. (3pts) Cars as dicts and functions. First do A, Write a function that makes dictionaries that represents a car. then for B onwards, Write functions that takes in such a dictionary, updates it, and returns it. The update functions should do whats listed\n",
    "<ol type =\"a\">\n",
    "    <li> Write a function that makes dictionaries that represents a car. It should have keys for make, model, year, color,  number of seats,  owner,  odometer, passengers, and a list of trips. <\\li>\n",
    "    <li>Write a function that increases the milage by a given amount and returns the updated dictionary.<\\li>\n",
    "    <li>Write a function that updates the owner of the vehicle<\\li>\n",
    "    <li>Write a function that updates the passengers in the dictionary, and randomly kicks someone out if there isn’t enough room. <\\li>\n",
    "    <li>Write a function called take_a_trip, that takes in a vehicle, a list of passengers, a distance, and updates the trip list with passengers and distance, and updates the odometer. <\\li>\n",
    "    <li>Write a function that prints the dictionary as a single string<\\li>    \n",
    "<\\ol>"
   ]
  },
  {
   "cell_type": "code",
   "execution_count": 2,
   "id": "useful-brand",
   "metadata": {},
   "outputs": [
    {
     "name": "stdout",
     "output_type": "stream",
     "text": [
      "sliver\n"
     ]
    }
   ],
   "source": [
    "def make_dict():\n",
    "    car_dict = {\n",
    "        'make' : 'nissan',\n",
    "        'model' : 'rogue',\n",
    "        'year' : '2017',\n",
    "        'color' : 'sliver',\n",
    "        'number of seats' : '4',\n",
    "        'owner' : 'JY',\n",
    "        'odometer' : 3000,\n",
    "        'passengers' : ['Tom', 'Jack', 'Mary'],\n",
    "        'trip' : [[['Tom','Jack'], [1000]], [['Mary','Eric','John'], [800]]]\n",
    "    }\n",
    "    return car_dict\n",
    "\n",
    "car_dict = make_dict()\n",
    "print(car_dict['color'])"
   ]
  },
  {
   "cell_type": "code",
   "execution_count": 136,
   "id": "chronic-genesis",
   "metadata": {},
   "outputs": [
    {
     "data": {
      "text/plain": [
       "{'make': 'nissan',\n",
       " 'model': 'rogue',\n",
       " 'year': '2017',\n",
       " 'color': 'sliver',\n",
       " 'number of seats': '4',\n",
       " 'owner': 'JY',\n",
       " 'odometer': 4000,\n",
       " 'passengers': ['Tom', 'Jack', 'Mary'],\n",
       " 'trip': [[['Tom', 'Jack'], [1000]], [['Mary', 'Eric', 'John'], [800]]]}"
      ]
     },
     "execution_count": 136,
     "metadata": {},
     "output_type": "execute_result"
    }
   ],
   "source": [
    "def milage_up(milage):\n",
    "    car_dict['odometer'] += milage\n",
    "    return car_dict\n",
    "\n",
    "milage_up(1000)"
   ]
  },
  {
   "cell_type": "code",
   "execution_count": 137,
   "id": "everyday-pound",
   "metadata": {},
   "outputs": [
    {
     "data": {
      "text/plain": [
       "{'make': 'nissan',\n",
       " 'model': 'rogue',\n",
       " 'year': '2017',\n",
       " 'color': 'sliver',\n",
       " 'number of seats': '4',\n",
       " 'owner': 'Jesus',\n",
       " 'odometer': 4000,\n",
       " 'passengers': ['Tom', 'Jack', 'Mary'],\n",
       " 'trip': [[['Tom', 'Jack'], [1000]], [['Mary', 'Eric', 'John'], [800]]]}"
      ]
     },
     "execution_count": 137,
     "metadata": {},
     "output_type": "execute_result"
    }
   ],
   "source": [
    "def owner_change(new_owner):\n",
    "    car_dict['owner'] = new_owner\n",
    "    return car_dict\n",
    "\n",
    "owner_change('Jesus')"
   ]
  },
  {
   "cell_type": "code",
   "execution_count": 138,
   "id": "amateur-scene",
   "metadata": {},
   "outputs": [
    {
     "data": {
      "text/plain": [
       "{'make': 'nissan',\n",
       " 'model': 'rogue',\n",
       " 'year': '2017',\n",
       " 'color': 'sliver',\n",
       " 'number of seats': '4',\n",
       " 'owner': 'Jesus',\n",
       " 'odometer': 4000,\n",
       " 'passengers': ['Andy', 'Eddy', 'Eric'],\n",
       " 'trip': [[['Tom', 'Jack'], [1000]], [['Mary', 'Eric', 'John'], [800]]]}"
      ]
     },
     "execution_count": 138,
     "metadata": {},
     "output_type": "execute_result"
    }
   ],
   "source": [
    "import random\n",
    "def passenger_change(new_psg):\n",
    "    while len(new_psg) > 3:\n",
    "        new_psg.pop(random.randrange(len(new_psg)))\n",
    "    car_dict['passengers'] = new_psg\n",
    "    return car_dict\n",
    "\n",
    "passenger_change(['Andy', 'Eddy', 'Thomas','John','Eric'])"
   ]
  },
  {
   "cell_type": "code",
   "execution_count": 139,
   "id": "conventional-robertson",
   "metadata": {},
   "outputs": [
    {
     "data": {
      "text/plain": [
       "{'make': 'nissan',\n",
       " 'model': 'rogue',\n",
       " 'year': '2017',\n",
       " 'color': 'sliver',\n",
       " 'number of seats': '4',\n",
       " 'owner': 'Jesus',\n",
       " 'odometer': 4500,\n",
       " 'passengers': ['Andy', 'Eddy', 'Eric'],\n",
       " 'trip': [[['Tom', 'Jack'], [1000]],\n",
       "  [['Mary', 'Eric', 'John'], [800]],\n",
       "  [['Andy', 'Eric'], [500]]]}"
      ]
     },
     "execution_count": 139,
     "metadata": {},
     "output_type": "execute_result"
    }
   ],
   "source": [
    "def take_a_trip(pas_list, distant):\n",
    "    car_dict['trip'].append([pas_list,[distant]])\n",
    "    car_dict['odometer'] += distant\n",
    "    return car_dict\n",
    "\n",
    "take_a_trip(['Andy', 'Eric'], 500)"
   ]
  },
  {
   "cell_type": "code",
   "execution_count": 142,
   "id": "southern-authorization",
   "metadata": {},
   "outputs": [
    {
     "name": "stdout",
     "output_type": "stream",
     "text": [
      "{'make': 'nissan', 'model': 'rogue', 'year': '2017', 'color': 'sliver', 'number of seats': '4', 'owner': 'Jesus', 'odometer': 4500, 'passengers': ['Andy', 'Eddy', 'Eric'], 'trip': [[['Tom', 'Jack'], [1000]], [['Mary', 'Eric', 'John'], [800]], [['Andy', 'Eric'], [500]]]}\n"
     ]
    }
   ],
   "source": [
    "def print_str(dictionary):\n",
    "    print(str(dictionary))\n",
    "    \n",
    "print_str(car_dict)"
   ]
  },
  {
   "cell_type": "markdown",
   "id": "reflected-pendant",
   "metadata": {},
   "source": [
    "2. (3pts) Write a car class with the same functionality as in 1. \n",
    "* Use __str__ for part f\n"
   ]
  },
  {
   "cell_type": "code",
   "execution_count": 225,
   "id": "pointed-conservation",
   "metadata": {},
   "outputs": [
    {
     "name": "stdout",
     "output_type": "stream",
     "text": [
      "(a)\n",
      "nissan|rogue|2017|silver|4|JY|3000|['John', 'Eric']|[[['Tom', 'Jack'], [1000]], [['Mary', 'Eric', 'John'], [800]]]\n",
      "(b)\n",
      "nissan|rogue|2017|silver|4|JY|3025|['John', 'Eric']|[[['Tom', 'Jack'], [1000]], [['Mary', 'Eric', 'John'], [800]]]\n",
      "(c)\n",
      "nissan|rogue|2017|silver|4|Jesus|3025|['John', 'Eric']|[[['Tom', 'Jack'], [1000]], [['Mary', 'Eric', 'John'], [800]]]\n",
      "(d)\n",
      "nissan|rogue|2017|silver|4|Jesus|3025|['Andy', 'Eddy', 'Eric']|[[['Tom', 'Jack'], [1000]], [['Mary', 'Eric', 'John'], [800]]]\n",
      "(e)\n",
      "nissan|rogue|2017|silver|4|Jesus|3525|['Andy', 'Eddy', 'Eric']|[[['Tom', 'Jack'], [1000]], [['Mary', 'Eric', 'John'], [800]], [['Andy', 'Eric'], [500]]]\n",
      "(f)\n",
      "nissan|rogue|2017|silver|4|Jesus|3525|['Andy', 'Eddy', 'Eric']|[[['Tom', 'Jack'], [1000]], [['Mary', 'Eric', 'John'], [800]], [['Andy', 'Eric'], [500]]]\n"
     ]
    }
   ],
   "source": [
    "class car:\n",
    "    def __init__(self, make, model, year, color, number_of_seat, owner, odometer, pessangers, list_of_trip):\n",
    "        self.make = make\n",
    "        self.model = model\n",
    "        self.year = year\n",
    "        self.color = color\n",
    "        self.number_of_seat = number_of_seat\n",
    "        self.owner = owner\n",
    "        self.odometer = odometer\n",
    "        self.passengers = pessangers\n",
    "        self.list_of_trip = list_of_trip\n",
    "    \n",
    "    def print_out(self):\n",
    "        printout = self.make + '|' + self.model + '|' + self.year + '|' + self.color+'|'+self.number_of_seat+'|'+self.owner+'|'+str(self.odometer)+'|'+str(self.passengers)+'|'+str(self.list_of_trip)\n",
    "        return printout\n",
    "    \n",
    "    def milage(self, milage):\n",
    "        self.odometer += milage\n",
    "        \n",
    "    def change_owner(self, owner):\n",
    "        self.owner = owner\n",
    "        \n",
    "    def change_pass(self, passenger):\n",
    "        while len(passenger) > 3:\n",
    "            passenger.pop(random.randrange(len(passenger)))\n",
    "        self.passengers = passenger\n",
    "        \n",
    "    def takeatrip(self,pass_list, dist):\n",
    "        self.list_of_trip.append([pass_list,[dist]])\n",
    "        self.odometer += dist\n",
    "        \n",
    "\n",
    "print('(a)')        \n",
    "a = car('nissan','rogue','2017','silver', '4','JY',3000, ['John','Eric'],[[['Tom','Jack'], [1000]], [['Mary','Eric','John'], [800]]])\n",
    "print(a.print_out())\n",
    "\n",
    "print('(b)') \n",
    "a.milage(25)\n",
    "print(a.print_out())\n",
    "\n",
    "print('(c)') \n",
    "a.change_owner('Jesus')\n",
    "print(a.print_out())\n",
    "\n",
    "print('(d)') \n",
    "a.change_pass(['Andy', 'Eddy', 'Thomas','John','Eric'])\n",
    "print(a.print_out())\n",
    "\n",
    "print('(e)') \n",
    "a.takeatrip(['Andy', 'Eric'], 500)\n",
    "print(a.print_out())\n",
    "\n",
    "print('(f)') \n",
    "print(str(a.print_out()))"
   ]
  },
  {
   "cell_type": "markdown",
   "id": "distinct-craft",
   "metadata": {},
   "source": [
    "3. Add a private counter to the car class. Increment it every time a passenger changes. When the class is destroyed, print the number of times the passenger list changed. "
   ]
  },
  {
   "cell_type": "code",
   "execution_count": 1,
   "id": "fossil-chorus",
   "metadata": {},
   "outputs": [],
   "source": [
    "class car:\n",
    "    i=0\n",
    "    def __init__(self, make, model, year, color, number_of_seat, owner, odometer, pessangers, list_of_trip):\n",
    "        self.make = make\n",
    "        self.model = model\n",
    "        self.year = year\n",
    "        self.color = color\n",
    "        self.number_of_seat = number_of_seat\n",
    "        self.owner = owner\n",
    "        self.odometer = odometer\n",
    "        self.passengers = pessangers\n",
    "        self.list_of_trip = list_of_trip\n",
    "    \n",
    "    def print_out(self):\n",
    "        printout = self.make + '|' + self.model + '|' + self.year + '|' + self.color+'|'+self.number_of_seat+'|'+self.owner+'|'+str(self.odometer)+'|'+str(self.passengers)+'|'+str(self.list_of_trip)\n",
    "        return printout\n",
    "    \n",
    "    def milage(self, milage):\n",
    "        self.odometer += milage\n",
    "        \n",
    "    def change_owner(self, owner):\n",
    "        self.owner = owner\n",
    "        \n",
    "    def change_pass(self, passenger):\n",
    "        while len(passenger) > 3:\n",
    "            passenger.pop(random.randrange(len(passenger)))\n",
    "        self.passengers = passenger\n",
    "        i+=1\n",
    "        \n",
    "    def takeatrip(self,pass_list, dist):\n",
    "        self.list_of_trip.append([pass_list,[dist]])\n",
    "        self.odometer += dist\n",
    "        \n",
    "    def __del__(self):\n",
    "        print(i)"
   ]
  },
  {
   "cell_type": "markdown",
   "id": "bright-expansion",
   "metadata": {},
   "source": [
    "## Compare class defaulting to function defaulting"
   ]
  },
  {
   "cell_type": "markdown",
   "id": "split-savannah",
   "metadata": {},
   "source": [
    "4. Make a function that takes in two numbers, a slope and an offset and returns a function that does a linear transform mx+b. Use the function on the range(0,10)"
   ]
  },
  {
   "cell_type": "code",
   "execution_count": 7,
   "id": "fancy-cathedral",
   "metadata": {},
   "outputs": [
    {
     "name": "stdout",
     "output_type": "stream",
     "text": [
      "1\n",
      "3\n",
      "5\n",
      "7\n",
      "9\n",
      "11\n",
      "13\n",
      "15\n",
      "17\n",
      "19\n"
     ]
    }
   ],
   "source": [
    "def line_maker(m,b):\n",
    "    def x_input(x):\n",
    "        return x*m+b\n",
    "    return x_input\n",
    "\n",
    "res = line_maker(2,1)\n",
    "for i in range(0,10):\n",
    "    print(res(i))"
   ]
  },
  {
   "cell_type": "markdown",
   "id": "vietnamese-asset",
   "metadata": {},
   "source": [
    "5. Make a class that takes in two numbers, a slope and an offset, into the constructor and saves them. It should have a call function that calculates the linear transformation of that number and returns it. Use the function on the range(0,10)."
   ]
  },
  {
   "cell_type": "code",
   "execution_count": 21,
   "id": "swiss-consent",
   "metadata": {},
   "outputs": [
    {
     "name": "stdout",
     "output_type": "stream",
     "text": [
      "1\n",
      "3\n",
      "5\n",
      "7\n",
      "9\n",
      "11\n",
      "13\n",
      "15\n",
      "17\n",
      "19\n"
     ]
    }
   ],
   "source": [
    "class line_para:    \n",
    "    def __init__(self,m=0,b=0):\n",
    "        self.m = m\n",
    "        self.b = b\n",
    "        \n",
    "    def fun(self,x):\n",
    "        return x* self.m + self.b\n",
    "    \n",
    "test = line_para(2,1)\n",
    "\n",
    "for i in range(0,10):\n",
    "    y = test.fun(i)\n",
    "    print(y)"
   ]
  },
  {
   "cell_type": "markdown",
   "id": "union-green",
   "metadata": {},
   "source": [
    "## Compare class function and generator"
   ]
  },
  {
   "cell_type": "markdown",
   "id": "incorrect-institution",
   "metadata": {},
   "source": [
    "6. Make a generator function for the Fibonacci sequence. Use it to generate 50 terms"
   ]
  },
  {
   "cell_type": "code",
   "execution_count": 36,
   "id": "applied-celtic",
   "metadata": {},
   "outputs": [
    {
     "data": {
      "text/plain": [
       "[0,\n",
       " 1,\n",
       " 1,\n",
       " 2,\n",
       " 3,\n",
       " 5,\n",
       " 8,\n",
       " 13,\n",
       " 21,\n",
       " 34,\n",
       " 55,\n",
       " 89,\n",
       " 144,\n",
       " 233,\n",
       " 377,\n",
       " 610,\n",
       " 987,\n",
       " 1597,\n",
       " 2584,\n",
       " 4181,\n",
       " 6765,\n",
       " 10946,\n",
       " 17711,\n",
       " 28657,\n",
       " 46368,\n",
       " 75025,\n",
       " 121393,\n",
       " 196418,\n",
       " 317811,\n",
       " 514229,\n",
       " 832040,\n",
       " 1346269,\n",
       " 2178309,\n",
       " 3524578,\n",
       " 5702887,\n",
       " 9227465,\n",
       " 14930352,\n",
       " 24157817,\n",
       " 39088169,\n",
       " 63245986,\n",
       " 102334155,\n",
       " 165580141,\n",
       " 267914296,\n",
       " 433494437,\n",
       " 701408733,\n",
       " 1134903170,\n",
       " 1836311903,\n",
       " 2971215073,\n",
       " 4807526976,\n",
       " 7778742049]"
      ]
     },
     "execution_count": 36,
     "metadata": {},
     "output_type": "execute_result"
    }
   ],
   "source": [
    "def fibo_Gen():\n",
    "    a=0\n",
    "    b=1\n",
    "    while True:\n",
    "        yield a\n",
    "        a,b = b,a+b\n",
    "\n",
    "gen = fibo_Gen()\n",
    "[next(gen) for i in range(50)]"
   ]
  },
  {
   "cell_type": "markdown",
   "id": "relative-proof",
   "metadata": {},
   "source": [
    "7. (2 pts) Make a generator class that calculates the Fibonacci sequence. Use it to generate 50 terms"
   ]
  },
  {
   "cell_type": "code",
   "execution_count": 35,
   "id": "color-entrance",
   "metadata": {},
   "outputs": [
    {
     "data": {
      "text/plain": [
       "[0,\n",
       " 1,\n",
       " 1,\n",
       " 2,\n",
       " 3,\n",
       " 5,\n",
       " 8,\n",
       " 13,\n",
       " 21,\n",
       " 34,\n",
       " 55,\n",
       " 89,\n",
       " 144,\n",
       " 233,\n",
       " 377,\n",
       " 610,\n",
       " 987,\n",
       " 1597,\n",
       " 2584,\n",
       " 4181,\n",
       " 6765,\n",
       " 10946,\n",
       " 17711,\n",
       " 28657,\n",
       " 46368,\n",
       " 75025,\n",
       " 121393,\n",
       " 196418,\n",
       " 317811,\n",
       " 514229,\n",
       " 832040,\n",
       " 1346269,\n",
       " 2178309,\n",
       " 3524578,\n",
       " 5702887,\n",
       " 9227465,\n",
       " 14930352,\n",
       " 24157817,\n",
       " 39088169,\n",
       " 63245986,\n",
       " 102334155,\n",
       " 165580141,\n",
       " 267914296,\n",
       " 433494437,\n",
       " 701408733,\n",
       " 1134903170,\n",
       " 1836311903,\n",
       " 2971215073,\n",
       " 4807526976,\n",
       " 7778742049]"
      ]
     },
     "execution_count": 35,
     "metadata": {},
     "output_type": "execute_result"
    }
   ],
   "source": [
    "class Fib:\n",
    "    def __init__(self):\n",
    "        self.a, self.b = 0, 1\n",
    "    def __iter__(self):\n",
    "        while True:\n",
    "            yield self.a\n",
    "            self.a, self.b = self.b, self.a+self.b\n",
    "            \n",
    "gen_c = iter(Fib())\n",
    "[next(gen_c) for i in range(50)]"
   ]
  },
  {
   "cell_type": "markdown",
   "id": "vital-organ",
   "metadata": {},
   "source": [
    "## The Bad of programming:"
   ]
  },
  {
   "cell_type": "markdown",
   "id": "fitted-solution",
   "metadata": {},
   "source": [
    "8. Make a base class called polygon, It should take in a list of side lengths. For it to be valid, each side should be shorter than the sum of the others.  It should have a function that returns true if valid. It should have a function that gives the number of sides, and one that gives the perimeter"
   ]
  },
  {
   "cell_type": "code",
   "execution_count": 26,
   "id": "antique-alarm",
   "metadata": {},
   "outputs": [
    {
     "name": "stdout",
     "output_type": "stream",
     "text": [
      "True\n",
      "4\n",
      "42\n",
      "\n",
      "False\n"
     ]
    }
   ],
   "source": [
    "import math\n",
    "\n",
    "class polygon:\n",
    "    def __init__ (self, sidelens):\n",
    "        self.sidelens = sidelens\n",
    "    \n",
    "    def valid (self):\n",
    "        sumlen = sum(self.sidelens)\n",
    "        for sidelen in self.sidelens:\n",
    "            if sidelen >= (sumlen - sidelen):\n",
    "                return False\n",
    "        return True\n",
    "        \n",
    "    def sides (self):\n",
    "        return len(self.sidelens)\n",
    "        \n",
    "    def perimeter (self):\n",
    "        return sum(self.sidelens)\n",
    "\n",
    "a = polygon([11,10,12,9])\n",
    "print(a.valid())\n",
    "print(a.sides())\n",
    "print(a.perimeter())\n",
    "\n",
    "print(\"\")\n",
    "b = polygon([40,10,12,9])\n",
    "print(b.valid())"
   ]
  },
  {
   "attachments": {
    "38cca4e0-9a68-44b4-a053-cd396c7f8905.png": {
     "image/png": "[encoded data removed]"
    }
   },
   "cell_type": "markdown",
   "id": "rapid-cattle",
   "metadata": {},
   "source": [
    "9. (2 pts) Make a child class, that inherits polygon that is a regular polygon. It should take in a number of sides and a size length. Add a function for area that uses the facts that the area of area of a regular polygon can be calculated using the following formula, where, A = area of the polygon, L = Length of the side, n = Number of sides of the given polygon\n",
    "\n",
    "![image.png](attachment:38cca4e0-9a68-44b4-a053-cd396c7f8905.png)"
   ]
  },
  {
   "cell_type": "code",
   "execution_count": 49,
   "id": "minimal-eleven",
   "metadata": {},
   "outputs": [
    {
     "name": "stdout",
     "output_type": "stream",
     "text": [
      "False\n",
      "3.847104421469067\n"
     ]
    }
   ],
   "source": [
    "import math\n",
    "\n",
    "class normal_polygon (polygon):\n",
    "    def __init__ (self, num_of_sides, side_len):\n",
    "        self.num = num_of_sides\n",
    "        self.lens = side_len\n",
    "        \n",
    "    def area (self):\n",
    "        if self.num >= 3:\n",
    "            return (self.lens ** 2) * self.num / (4 * math.tan (math.pi / 2 / self.num) )\n",
    "        else:\n",
    "            return False\n",
    "        \n",
    "    \n",
    "a = normal_polygon(2, 6)\n",
    "print (a.area())\n",
    "\n",
    "b = normal_polygon(5, 1)\n",
    "print (b.area())"
   ]
  },
  {
   "cell_type": "code",
   "execution_count": null,
   "id": "4e69258b",
   "metadata": {},
   "outputs": [],
   "source": []
  }
 ],
 "metadata": {
  "kernelspec": {
   "display_name": "Python 3",
   "language": "python",
   "name": "python3"
  },
  "language_info": {
   "codemirror_mode": {
    "name": "ipython",
    "version": 3
   },
   "file_extension": ".py",
   "mimetype": "text/x-python",
   "name": "python",
   "nbconvert_exporter": "python",
   "pygments_lexer": "ipython3",
   "version": "3.8.8"
  }
 },
 "nbformat": 4,
 "nbformat_minor": 5
}
