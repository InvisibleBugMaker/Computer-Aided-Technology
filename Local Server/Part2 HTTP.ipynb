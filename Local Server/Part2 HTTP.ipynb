{
 "cells": [
  {
   "cell_type": "code",
   "execution_count": 1,
   "id": "02f56682",
   "metadata": {},
   "outputs": [
    {
     "name": "stdout",
     "output_type": "stream",
     "text": [
      "{'make': 'nissan', 'model': 'rogue', 'year': '2017', 'color': 'sliver', 'number of seats': '4', 'owner': 'JY', 'odometer': 3000, 'passengers': 'Tom, Jack, Mary', 'trip': [['Tom, Jack, 1000'], ['Mary, Eric, John, 80']]}\n"
     ]
    }
   ],
   "source": [
    "import requests\n",
    "import json\n",
    "\n",
    "URL = \"http://localhost:5000/\"\n",
    "r = requests.get(URL)\n",
    "print(r.text)"
   ]
  },
  {
   "cell_type": "code",
   "execution_count": 2,
   "id": "1d7d817c",
   "metadata": {},
   "outputs": [
    {
     "name": "stdout",
     "output_type": "stream",
     "text": [
      "{\n",
      "  \"color\": \"sliver\", \n",
      "  \"make\": \"nissan\", \n",
      "  \"model\": \"rogue\", \n",
      "  \"number of seats\": \"4\", \n",
      "  \"odometer\": 3000, \n",
      "  \"owner\": \"JY\", \n",
      "  \"passengers\": \"Tom, Jack, Mary\", \n",
      "  \"trip\": [\n",
      "    [\n",
      "      \"Tom, Jack, 1000\"\n",
      "    ], \n",
      "    [\n",
      "      \"Mary, Eric, John, 80\"\n",
      "    ]\n",
      "  ], \n",
      "  \"year\": \"2017\"\n",
      "}\n",
      "\n"
     ]
    }
   ],
   "source": [
    "URL = \"http://localhost:5000/car\"\n",
    "r = requests.get(URL)\n",
    "print(r.text)"
   ]
  },
  {
   "cell_type": "code",
   "execution_count": 3,
   "id": "7fa0366a",
   "metadata": {},
   "outputs": [
    {
     "name": "stdout",
     "output_type": "stream",
     "text": [
      "nissan\n",
      "JY\n",
      "sliver\n"
     ]
    }
   ],
   "source": [
    "URL = \"http://localhost:5000/car/make\"\n",
    "r = requests.get(URL)\n",
    "print(r.text)\n",
    "\n",
    "URL = \"http://localhost:5000/car/owner\"\n",
    "r = requests.get(URL)\n",
    "print(r.text)\n",
    "\n",
    "URL = \"http://localhost:5000/car/color\"\n",
    "r = requests.get(URL)\n",
    "print(r.text)"
   ]
  },
  {
   "cell_type": "code",
   "execution_count": 4,
   "id": "7077b628",
   "metadata": {},
   "outputs": [
    {
     "name": "stdout",
     "output_type": "stream",
     "text": [
      "[\n",
      "  [\n",
      "    \"Tom, Jack, 1000\"\n",
      "  ], \n",
      "  [\n",
      "    \"Mary, Eric, John, 80\"\n",
      "  ]\n",
      "]\n",
      "\n"
     ]
    }
   ],
   "source": [
    "URL = \"http://localhost:5000/trips\"\n",
    "r = requests.get(URL)\n",
    "print(r.text)"
   ]
  },
  {
   "cell_type": "code",
   "execution_count": 5,
   "id": "d2beb6fa",
   "metadata": {
    "scrolled": true
   },
   "outputs": [],
   "source": [
    "URL = \"http://localhost:5000/trips\"\n",
    "\n",
    "r = requests.post(URL, json={\"new\":['Ma, Sam, 120']})"
   ]
  },
  {
   "cell_type": "code",
   "execution_count": 6,
   "id": "0cb4fa51",
   "metadata": {},
   "outputs": [
    {
     "name": "stdout",
     "output_type": "stream",
     "text": [
      "[\n",
      "  [\n",
      "    \"Tom, Jack, 1000\"\n",
      "  ], \n",
      "  [\n",
      "    \"Mary, Eric, John, 80\"\n",
      "  ], \n",
      "  [\n",
      "    \"Andy, Sam, 120\"\n",
      "  ]\n",
      "]\n",
      "\n"
     ]
    }
   ],
   "source": [
    "URL = \"http://localhost:5000/trips\"\n",
    "r = requests.get(url = URL)\n",
    "print(r.text)"
   ]
  },
  {
   "cell_type": "code",
   "execution_count": null,
   "id": "29befbdf",
   "metadata": {},
   "outputs": [],
   "source": []
  }
 ],
 "metadata": {
  "kernelspec": {
   "display_name": "Python 3",
   "language": "python",
   "name": "python3"
  },
  "language_info": {
   "codemirror_mode": {
    "name": "ipython",
    "version": 3
   },
   "file_extension": ".py",
   "mimetype": "text/x-python",
   "name": "python",
   "nbconvert_exporter": "python",
   "pygments_lexer": "ipython3",
   "version": "3.8.8"
  }
 },
 "nbformat": 4,
 "nbformat_minor": 5
}
