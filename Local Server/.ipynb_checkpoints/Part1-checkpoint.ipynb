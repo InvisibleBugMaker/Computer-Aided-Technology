{
 "cells": [
  {
   "cell_type": "code",
   "execution_count": 140,
   "id": "0800aa2d",
   "metadata": {},
   "outputs": [
    {
     "name": "stdout",
     "output_type": "stream",
     "text": [
      "{\n",
      "  \"motor_loc\": {\n",
      "    \"loc\": -1000\n",
      "  }\n",
      "}\n",
      "\n"
     ]
    }
   ],
   "source": [
    "import requests\n",
    "\n",
    "URL = \"http://octopi11.me.washington.edu:5001/motor\"\n",
    "r = requests.get(url = URL)\n",
    "print(r.text)"
   ]
  },
  {
   "cell_type": "code",
   "execution_count": 74,
   "id": "b5230334",
   "metadata": {},
   "outputs": [
    {
     "name": "stdout",
     "output_type": "stream",
     "text": [
      "{\n",
      "  \"light\": {\n",
      "    \"power\": false\n",
      "  }\n",
      "}\n",
      "\n"
     ]
    }
   ],
   "source": [
    "import requests\n",
    "\n",
    "URL = \"http://octopi11.me.washington.edu:5001/laser\"\n",
    "r = requests.get(url = URL)\n",
    "print(r.text)"
   ]
  },
  {
   "cell_type": "code",
   "execution_count": 190,
   "id": "1d1998f3",
   "metadata": {},
   "outputs": [],
   "source": [
    "class stage:\n",
    "    def __init__(self, position , b):\n",
    "        '''initialize the position and laser'''\n",
    "        self.position = position\n",
    "        self.b = b\n",
    "    def move(self,position):\n",
    "        '''assign the position'''\n",
    "        URL = \"http://octopi11.me.washington.edu:5001/motor\"\n",
    "        data = {'loc': position}\n",
    "        requests.put(url = URL, json=data)\n",
    "    def set_laser(self, b):\n",
    "        '''turn on and off the laser'''\n",
    "        URL = \"http://octopi11.me.washington.edu:5001/laser\"\n",
    "        data = {'power': b}\n",
    "        requests.put(url = URL, json=data)\n",
    "    def pos(self):\n",
    "        '''get the position'''\n",
    "        URL = \"http://octopi11.me.washington.edu:5001/motor\"\n",
    "        r = requests.get(url = URL)\n",
    "        print(r.text)\n",
    "    def laser(self):\n",
    "        '''check the laser'''\n",
    "        URL = \"http://octopi11.me.washington.edu:5001/laser\"\n",
    "        r = requests.get(url = URL)\n",
    "        print(r.text)"
   ]
  },
  {
   "cell_type": "code",
   "execution_count": 191,
   "id": "50e9502b",
   "metadata": {},
   "outputs": [],
   "source": [
    "a = stage(0,False)"
   ]
  },
  {
   "cell_type": "code",
   "execution_count": 193,
   "id": "8594fc06",
   "metadata": {},
   "outputs": [
    {
     "name": "stdout",
     "output_type": "stream",
     "text": [
      "{\n",
      "  \"motor_loc\": {\n",
      "    \"loc\": 1000\n",
      "  }\n",
      "}\n",
      "\n"
     ]
    }
   ],
   "source": [
    "a.pos()"
   ]
  },
  {
   "cell_type": "code",
   "execution_count": 192,
   "id": "ea28d9be",
   "metadata": {},
   "outputs": [
    {
     "name": "stdout",
     "output_type": "stream",
     "text": [
      "{\n",
      "  \"light\": {\n",
      "    \"power\": 0\n",
      "  }\n",
      "}\n",
      "\n"
     ]
    }
   ],
   "source": [
    "a.laser()"
   ]
  },
  {
   "cell_type": "code",
   "execution_count": null,
   "id": "4bfc97f0",
   "metadata": {},
   "outputs": [],
   "source": []
  }
 ],
 "metadata": {
  "kernelspec": {
   "display_name": "Python 3",
   "language": "python",
   "name": "python3"
  },
  "language_info": {
   "codemirror_mode": {
    "name": "ipython",
    "version": 3
   },
   "file_extension": ".py",
   "mimetype": "text/x-python",
   "name": "python",
   "nbconvert_exporter": "python",
   "pygments_lexer": "ipython3",
   "version": "3.8.8"
  }
 },
 "nbformat": 4,
 "nbformat_minor": 5
}
