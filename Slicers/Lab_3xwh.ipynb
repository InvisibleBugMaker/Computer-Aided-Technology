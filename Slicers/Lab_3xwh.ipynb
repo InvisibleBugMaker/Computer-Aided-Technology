{
  "nbformat": 4,
  "nbformat_minor": 0,
  "metadata": {
    "colab": {
      "name": "Lab_3.ipynb",
      "provenance": [],
      "collapsed_sections": []
    },
    "kernelspec": {
      "name": "python3",
      "display_name": "Python 3"
    },
    "language_info": {
      "name": "python"
    }
  },
  "cells": [
    {
      "cell_type": "code",
      "metadata": {
        "id": "UPSXjr4HHTkG"
      },
      "source": [
        "import numpy as np\n",
        "import math"
      ],
      "execution_count": null,
      "outputs": []
    },
    {
      "cell_type": "code",
      "metadata": {
        "colab": {
          "base_uri": "https://localhost:8080/"
        },
        "id": "LcyM-utMIkCS",
        "outputId": "2df817c3-91de-4c80-9791-fdbb0cf1d409"
      },
      "source": [
        "#@title\n",
        "def intersect3D_SegmentTriangle(triLst,segLst):\n",
        "  '''\n",
        "  This function calculates the intersection point of a triangle with a segment.\n",
        "\n",
        "  Inputs:\n",
        "      A list of three 3D points (tuples) representing the triangle\n",
        "      A list of two 3D points (tuples) representing the segment\n",
        "\n",
        "  Output:\n",
        "      A 3D points (tuples) representing the intersection point\n",
        "  '''\n",
        "  SMALL_NUM = 1e-8\n",
        "  V0,V1,V2 = np.array(triLst[0]),np.array(triLst[1]),np.array(triLst[2])\n",
        "  P0,P1 = np.array(segLst[0]),np.array(segLst[1])\n",
        "  u = V1 - V0\n",
        "  v = V2 - V0\n",
        "  n = np.cross(u,v)\n",
        "  # n = u*v\n",
        "\n",
        "  dir = P1 - P0 # segment direction vector\n",
        "  w0 = P0 - V0\n",
        "  a = -np.dot(n,w0)\n",
        "  b = np.dot(n,dir)\n",
        "  r = a/b\n",
        "  # if r < 0 or r > 1:\n",
        "  #   return('the segment goes away from triangle')\n",
        "  \n",
        "  # calculate the intersect point \n",
        "  I = P0 + r*dir\n",
        "  return I\n",
        "\n",
        "t = [(2000,0,0),(0,0,0),(0,2000,0)]\n",
        "T = [(-0.254, -30.2, 4.396), (-5.302, -29.14, -0.002), (-2.09, -29.542, -0.002)]\n",
        "s1 = [(-3.208, -30.156, 4.394), (-5.302, -29.14, -0.002)]\n",
        "s2 = [(-5.302, -29.14, -0.002), (-0.254, -30.2, 4.396)]\n",
        "I = intersect3D_SegmentTriangle(t,s1)\n",
        "print(I)\n",
        "print(type(I))\n"
      ],
      "execution_count": null,
      "outputs": [
        {
          "output_type": "stream",
          "name": "stdout",
          "text": [
            "[ -5.30104732 -29.14046224   0.        ]\n",
            "<class 'numpy.ndarray'>\n"
          ]
        }
      ]
    },
    {
      "cell_type": "code",
      "metadata": {
        "id": "o9jx855Z3cbp"
      },
      "source": [
        "#@title\n",
        "def getI(triLst,h):\n",
        "  '''\n",
        "  This function calculates the intersection of a triangle with a horizontal plane.\n",
        "\n",
        "  Inputs:\n",
        "      A list of three 3D points (tuples) representing P0, P1, P2 respectively.\n",
        "\n",
        "  Output:\n",
        "      A np.array of two 3D points (tuples) representing I1, I2\n",
        "  '''\n",
        "  P0,P1,P2 = triLst[0],triLst[1],triLst[2]\n",
        "  # pt0z = P0[2]\n",
        "  # pt2z = P2[2]\n",
        "  triLst = ((0,0,h), (100,0,h), (0,100,h))\n",
        "  # V0,V1,V2 = np.array(triLst[0]),np.array(triLst[1]),np.array(triLst[2])\n",
        "\n",
        "  # After determined P0,P1,P2, calculate I1 and I2\n",
        "  segLst1 = (P0,P1)\n",
        "  segLst2 = (P0,P2)\n",
        "  I1 = intersect3D_SegmentTriangle(triLst,segLst1)\n",
        "  I2 = intersect3D_SegmentTriangle(triLst,segLst2)\n",
        "  # print('I1: ', I1)\n",
        "  # print('I2: ', I2)\n",
        "  return(I1, I2)\n",
        "\n",
        "T = [(-0.254, -30.2, 4.396), (-5.302, -29.14, -0.002), (-2.09, -29.542, -0.002)]\n",
        "# I1,I2 = getI(T)\n",
        "# print('I1: ', I1, 'I2: ', I2)\n",
        "# print(type(I1[0]))"
      ],
      "execution_count": null,
      "outputs": []
    },
    {
      "cell_type": "code",
      "metadata": {
        "colab": {
          "base_uri": "https://localhost:8080/"
        },
        "id": "nUN7sfu35DJ3",
        "cellView": "form",
        "outputId": "533b7257-e8d3-44d1-d0a6-47c4f028d819"
      },
      "source": [
        "#@title\n",
        "def stl_reader(stlfile):\n",
        "  '''\n",
        "  This generator import a STL file and yield one line each time the user call it.\n",
        "\n",
        "  Input:\n",
        "      A STL file\n",
        "\n",
        "  Output:\n",
        "      A tuple of a 3D point\n",
        "  '''\n",
        "  with open(stlfile,'r') as file:\n",
        "    for line in file:\n",
        "      if line.strip().split(' ')[0] == 'vertex':\n",
        "        yield line.strip().split()[1:]\n",
        "\n",
        "def genTri(stlfile):\n",
        "  '''\n",
        "  This function import a STL file and convert it to a list of three 3D points,\n",
        "  these points are the vertex of a triangle\n",
        "\n",
        "  Input:\n",
        "      A STL file\n",
        "\n",
        "  Output:\n",
        "      A list of three 3D points (tuples)\n",
        "  '''\n",
        "  lst = []\n",
        "  stl_gen = stl_reader(stlfile)\n",
        "  for line in stl_gen:\n",
        "    lst.append(tuple(line))\n",
        "\n",
        "  return lst\n",
        "\n",
        "lst = genTri('twist_gear_vase2.stl')\n",
        "# print(lst)\n",
        "print(len(lst))\n",
        "print('lst[-1]: ', lst[-1])\n",
        "print('type(lst[-1]): ', type(lst[-1]))\n",
        "print(float(lst[-1][2]))\n",
        "print(type(float(lst[-1][2])))\n"
      ],
      "execution_count": null,
      "outputs": [
        {
          "output_type": "stream",
          "name": "stdout",
          "text": [
            "9000\n",
            "lst[-1]:  ('1.150000e+01', '4.800000e+00', '9.753400e+01')\n",
            "type(lst[-1]):  <class 'tuple'>\n",
            "97.534\n",
            "<class 'float'>\n"
          ]
        }
      ]
    },
    {
      "cell_type": "code",
      "metadata": {
        "id": "UiA7egelFEdD",
        "colab": {
          "base_uri": "https://localhost:8080/"
        },
        "outputId": "b42be8c6-1daf-4775-fb0e-4b957eecc865"
      },
      "source": [
        "\n",
        "def genIlist(stlfile):\n",
        "  '''\n",
        "  This function takes a list of 3D points (tuples) and return a \n",
        "  list of I\n",
        "\n",
        "  Input:\n",
        "      A list of 3D points.\n",
        "\n",
        "  Output:\n",
        "      a list of I (tuples) representing the intersection point.\n",
        "  '''\n",
        "  tupleLst = genTri(stlfile)\n",
        "  raw_I_list = []\n",
        "  height = 0\n",
        "  while height <= float(tupleLst[-1][2]):\n",
        "    for i in range(0, len(tupleLst), 3):\n",
        "\n",
        "      pt0x,pt1x,pt2x = float(tupleLst[i][0]),float(tupleLst[i+1][0]),float(tupleLst[i+2][0])\n",
        "      pt0y,pt1y,pt2y = float(tupleLst[i][1]),float(tupleLst[i+1][1]),float(tupleLst[i+2][1])\n",
        "      pt0z,pt1z,pt2z = float(tupleLst[i][2]),float(tupleLst[i+1][2]),float(tupleLst[i+2][2])\n",
        "      # V0 = np.array([0, 0,   height])\n",
        "      # V1 = np.array([10000, 0, height])\n",
        "      # V2 = np.array([0, 10000, height])\n",
        "      if pt0z <= height < pt2z or pt2z <= height < pt0z:\n",
        "      # if current height is inside the current triangle\n",
        "        if math.isclose(pt0z, pt1z, abs_tol=1e-2):\n",
        "        # if point 2 is on one side alone\n",
        "          P0 = (pt2x, pt2y, pt2z)\n",
        "          P1 = (pt0x, pt0y, pt0z)\n",
        "          P2 = (pt1x, pt1y, pt1z)\n",
        "          I1,I2 = getI([P0, P1, P2], height)\n",
        "\n",
        "        elif math.isclose(pt1z, pt2z, abs_tol=1e-2):\n",
        "        # if point 0 is on one side alone\n",
        "          P0 = (pt0x, pt0y, pt0z)\n",
        "          P1 = (pt1x, pt1y, pt1z)\n",
        "          P2 = (pt2x, pt2y, pt2z)\n",
        "          I1,I2 = getI([P0, P1, P2], height)\n",
        "\n",
        "      raw_I_list.append([I1,I2])\n",
        "    height += 1\n",
        "\n",
        "  return raw_I_list\n",
        "\n",
        "lst = genIlist('twist_gear_vase2.stl')\n",
        "\n",
        "print('len(lst): ', len(lst), 'type(lst): ', type(lst))\n",
        "print(lst[:10])\n",
        "print(lst[50])\n",
        "print(type(lst[0]))\n",
        "print(lst[0][0])\n",
        "print(type(lst[0][0]))\n",
        "print(lst[0][0][0])\n",
        "print(type(lst[0][0][0]))"
      ],
      "execution_count": null,
      "outputs": [
        {
          "output_type": "stream",
          "name": "stdout",
          "text": [
            "len(lst):  294000 type(lst):  <class 'list'>\n",
            "[[array([-5.29970441e+00, -2.91404820e+01, -4.33680869e-19]), array([ -5.30104732, -29.14046224,   0.        ])], [array([ -5.29970441, -29.14048204,   0.        ]), array([ -2.08916508, -29.54229923,   0.        ])], [array([ -5.29970441, -29.14048204,   0.        ]), array([ -2.08916508, -29.54229923,   0.        ])], [array([ -8.38564331, -28.41479254,   0.        ]), array([ -5.30104732, -29.14046224,   0.        ])], [array([-1.13296004e+01, -2.73795299e+01, -4.33680869e-19]), array([-11.33146642, -27.37907172,   0.        ])], [array([-11.32960037, -27.37952995,   0.        ]), array([ -8.3869465 , -28.41505624,   0.        ])], [array([-11.32960037, -27.37952995,   0.        ]), array([ -8.3869465 , -28.41505624,   0.        ])], [array([-14.1161937 , -26.05567656,   0.        ]), array([-11.33146642, -27.37907172,   0.        ])], [array([-16.72604732, -24.46146133,   0.        ]), array([-16.72715196, -24.4608071 ,   0.        ])], [array([-16.72604732, -24.46146133,   0.        ]), array([-14.11723476, -26.05473612,   0.        ])]]\n",
            "[array([-13.12205275,  26.56707503,   0.        ]), array([-15.77484584,  25.08374989,   0.        ])]\n",
            "<class 'list'>\n",
            "[-5.29970441e+00 -2.91404820e+01 -4.33680869e-19]\n",
            "<class 'numpy.ndarray'>\n",
            "-5.299704411095952\n",
            "<class 'numpy.float64'>\n"
          ]
        }
      ]
    },
    {
      "cell_type": "code",
      "metadata": {
        "colab": {
          "base_uri": "https://localhost:8080/"
        },
        "id": "M9RnDPFGAgJF",
        "outputId": "98a99e41-eb3a-4785-d241-68fd75a785b6"
      },
      "source": [
        "dist = np.sqrt((lst[0][0][0] - lst[0][1][0])**2 + (lst[0][0][1] - lst[0][1][1])**2)\n",
        "print('dist: ', dist)"
      ],
      "execution_count": null,
      "outputs": [
        {
          "output_type": "stream",
          "name": "stdout",
          "text": [
            "dist:  0.0013430505885283545\n"
          ]
        }
      ]
    },
    {
      "cell_type": "code",
      "metadata": {
        "id": "77ZgcBw24xj7"
      },
      "source": [
        "import csv\n",
        "with(open('Lab3.gcode', 'w')) as f:\n",
        "    me = csv.writer(f)\n",
        "    me.writerow([\"M140 S60\"])\n",
        "    me.writerow([\"M105\"])\n",
        "    me.writerow([\"M190 S60\"])\n",
        "    me.writerow([\"M104 S230\"])\n",
        "    me.writerow([\"M105\"])\n",
        "    me.writerow([\"M109 S230\"])\n",
        "    me.writerow([\"M83\"])\n",
        "    me.writerow([\"G92 E0\"])\n",
        "    me.writerow([\"G28\"])\n",
        "    me.writerow([\"G91\"])\n",
        "    me.writerow([\"G1 Z2.0 F3000\"])\n",
        "    me.writerow([\"G1 X5 Y20 Z0.3 F5000.0\"])\n",
        "    me.writerow([\"G92 E0\"])\n",
        "    me.writerow([\"G90\"])\n",
        "    me.writerow([\"G1 F2700 E-5\"])\n",
        "    me.writerow([\"M107\"])\n",
        "    me.writerow([\"G1 F1200 E0\"])\n",
        "    E = 0.2  \n",
        "    for i in range(len(lst)):\n",
        "      dist = np.sqrt((str(lst[i][0][0]) - str(lst[i][1][0]))**2 + (str(lst[i][0][1]) - str(lst[i][1][1]))**2)\n",
        "      E = dist * 0.0332569\n",
        "      me.writerow([\"G1 \" + \"X\" + str(lst[i][0][0]) + \" Y\" + str(lst[i][0][1])  + \" Z\" + str(lst[i][0][2]) + \" E\" + str(E)])\n",
        "      me.writerow([\"G1 \" + \"X\" + str(lst[i][1][0]) + \" Y\" + str(lst[i][1][1])  + \" Z\" + str(lst[i][1][2]) + \" E\" + str(E)])\n",
        "      E += 0.05\n",
        "    me.writerow([\"G0 Z10\"])\n",
        "    me.writerow([\"G28\"])"
      ],
      "execution_count": null,
      "outputs": []
    },
    {
      "cell_type": "code",
      "metadata": {
        "id": "3XcowDYaANdg"
      },
      "source": [
        "dist = np.sqrt((lst[0][0][0] - lst[0][1][0])**2 + (lst[0][0][1] - lst[0][1][1])**2)"
      ],
      "execution_count": null,
      "outputs": []
    },
    {
      "cell_type": "code",
      "metadata": {
        "id": "rw4a7WFJpBVR"
      },
      "source": [
        "#@title\n",
        "def divide_by_plane(raw_L_list):\n",
        "'''\n",
        "This function divide the raw L list according to their heights. \n",
        "Segments will be in a same list if they belong to a same plane.\n",
        "'''"
      ],
      "execution_count": null,
      "outputs": []
    },
    {
      "cell_type": "code",
      "metadata": {
        "id": "TelrXPLQlm5P"
      },
      "source": [
        "#@title\n",
        "def sorting(L_list_before_order):\n",
        "  '''\n",
        "  This function sorts a list of unordered segments into a list of \n",
        "  ordered segments \n",
        "\n",
        "  Input:\n",
        "      A list of line segments, each line segment is a list of 2D \n",
        "      points (tuples).\n",
        "\n",
        "  Output:\n",
        "      a single list of 2D points where the start of one segment is\n",
        "      the end of another.\n",
        "  '''\n",
        "  # first, find out which segment is the start\n",
        "  for \n",
        "\n",
        "\n",
        "\n",
        "  # then, according the starting segment, sorting the rest segments\n",
        "\n",
        "  return 0"
      ],
      "execution_count": null,
      "outputs": []
    },
    {
      "cell_type": "code",
      "metadata": {
        "colab": {
          "base_uri": "https://localhost:8080/"
        },
        "id": "tofG_d-083r9",
        "outputId": "55fa1efe-34a3-43d9-c196-3051a5e3a428"
      },
      "source": [
        "# P0 = (1, 1, 1)\n",
        "# P1 = (2, 2, 2)\n",
        "# P2 = (3, 3, 3)\n",
        "# triLst = [P0, P1, P2]\n",
        "T = (-5.302000e+00, -2.914000e+01, -2.000000e-03)\n",
        "print(T)\n",
        "print(type(T))\n",
        "print(type(T[0]))\n"
      ],
      "execution_count": null,
      "outputs": [
        {
          "output_type": "stream",
          "name": "stdout",
          "text": [
            "(-5.302, -29.14, -0.002)\n",
            "<class 'tuple'>\n",
            "<class 'float'>\n"
          ]
        }
      ]
    }
  ]
}