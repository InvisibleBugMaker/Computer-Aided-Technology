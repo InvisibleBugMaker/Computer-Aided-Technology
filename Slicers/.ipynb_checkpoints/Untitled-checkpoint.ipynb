{
 "cells": [
  {
   "cell_type": "code",
   "execution_count": 65,
   "id": "15c76ddb",
   "metadata": {},
   "outputs": [],
   "source": [
    "def read_file(fname):\n",
    "    with open(fname,'r') as f:\n",
    "        a = list(tuple(map(float,i.strip().split()[1:])) for i in f if i.strip().split()[0]=='vertex') \n",
    "    return a\n",
    "\n",
    "\n",
    "ps = read_file('twist_gear_vase2.stl')\n",
    "points = [[round(elem,1) for elem in sublst] for sublst in ps]"
   ]
  },
  {
   "cell_type": "code",
   "execution_count": 70,
   "id": "b28c8a86",
   "metadata": {},
   "outputs": [
    {
     "data": {
      "text/plain": [
       "117240"
      ]
     },
     "execution_count": 70,
     "metadata": {},
     "output_type": "execute_result"
    }
   ],
   "source": [
    "height = 0\n",
    "result=[]\n",
    "\n",
    "while height <= points[-1][2]:\n",
    "    for i in list(range(0,len(points),3)):\n",
    "        if points[i][2] < height <= points[i+2][2]:\n",
    "            result.append(list(points[i][n]+(height - points[i][2])/(points[i+2][2]-points[i][2])*(points[i+2][n]-points[i][n]) for n in range(3)))\n",
    "        if points[i+2][2] < height <= points[i][2]:\n",
    "            result.append(list(points[i+2][n]+(height - points[i+2][2])/(points[i][2]-points[i+2][2])*(points[i][n]-points[i+2][n]) for n in range(3)))\n",
    "            \n",
    "        if points[i+1][2] < height <= points[i+2][2]:\n",
    "            result.append(list(points[i+1][n]+(height - points[i+1][2])/(points[i+2][2]-points[i+1][2])*(points[i+2][n]-points[i+1][n]) for n in range(3)))\n",
    "        if points[i+2][2] < height <= points[i+1][2]:\n",
    "            result.append(list(points[i+2][n]+(height - points[i+2][2])/(points[i+1][2]-points[i+2][2])*(points[i+1][n]-points[i+2][n]) for n in range(3)))\n",
    "            \n",
    "        if points[i][2] < height <= points[i+1][2]:\n",
    "            result.append(list(points[i][n]+(height - points[i][2])/(points[i+1][2]-points[i][2])*(points[i+1][n]-points[i][n]) for n in range(3)))\n",
    "        if points[i+1][2] < height <= points[i][2]:\n",
    "            result.append(list(points[i+1][n]+(height - points[i+1][2])/(points[i][2]-points[i+1][2])*(points[i][n]-points[i+1][n]) for n in range(3)))\n",
    "        '''else:\n",
    "            height += 0.2\n",
    "            result.append(list(points[i][n]+(height - points[i][2])/(points[i+2][2]-points[i][2])*(points[i+2][n]-points[i][n]) for n in range(3)))\n",
    "            height -= 0.2'''\n",
    "    height += 0.2\n",
    "len(result)"
   ]
  },
  {
   "cell_type": "code",
   "execution_count": 71,
   "id": "5bfa0e30",
   "metadata": {},
   "outputs": [
    {
     "data": {
      "text/plain": [
       "58530"
      ]
     },
     "execution_count": 71,
     "metadata": {},
     "output_type": "execute_result"
    }
   ],
   "source": [
    "ok = []\n",
    "for elem in result:\n",
    "    if elem not in ok:\n",
    "        ok.append(elem)\n",
    "result = ok\n",
    "len(result)"
   ]
  },
  {
   "cell_type": "code",
   "execution_count": 73,
   "id": "262a1660",
   "metadata": {},
   "outputs": [],
   "source": [
    "import csv\n",
    "with(open('Lab33333333333.gcode', 'w')) as f:\n",
    "    me = csv.writer(f)\n",
    "    me.writerow([\"M140 S60\"])\n",
    "    me.writerow([\"M105\"])\n",
    "    me.writerow([\"M190 S60\"])\n",
    "    me.writerow([\"M104 S230\"])\n",
    "    me.writerow([\"M105\"])\n",
    "    me.writerow([\"M109 S230\"])\n",
    "    me.writerow([\"M82\"])\n",
    "    me.writerow([\"G92 E0\"])\n",
    "    me.writerow([\"G28\"])\n",
    "    me.writerow([\"G91\"])\n",
    "    me.writerow([\"G1 Z2.0 F3000\"])\n",
    "    me.writerow([\"G1 X5 Y20 Z0.3 F5000.0\"])\n",
    "    me.writerow([\"G92 E0\"])\n",
    "    me.writerow([\"G90\"])\n",
    "    me.writerow([\"G1 F2700 E-5\"])\n",
    "    me.writerow([\"M107\"])\n",
    "    me.writerow([\"G1 F500 E0\"])\n",
    "    E = 0.2  \n",
    "    for i in range(len(result)):\n",
    "        me.writerow([\"G1 \" + \"X\" + str(round(result[i][0],3)) + \" Y\" + str(round(result[i][1],3))  + \" Z\" + str(round(result[i][2],1)) + \" E\" + str(round(E,2))])\n",
    "        E += 0.02\n",
    "    me.writerow([\"G0 Z10\"])\n",
    "    me.writerow([\"G28\"])"
   ]
  },
  {
   "cell_type": "code",
   "execution_count": null,
   "id": "e5b34690",
   "metadata": {},
   "outputs": [],
   "source": []
  },
  {
   "cell_type": "code",
   "execution_count": null,
   "id": "13a73a31",
   "metadata": {},
   "outputs": [],
   "source": []
  }
 ],
 "metadata": {
  "kernelspec": {
   "display_name": "Python 3",
   "language": "python",
   "name": "python3"
  }
 },
 "nbformat": 4,
 "nbformat_minor": 5
}
